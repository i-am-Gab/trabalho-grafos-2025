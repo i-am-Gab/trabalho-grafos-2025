{
 "cells": [
  {
   "cell_type": "code",
   "execution_count": null,
   "id": "39154f51",
   "metadata": {},
   "outputs": [],
   "source": [
    "# main.ipynb - célula 1\n",
    "from app.src.loader.loader import carregar_instancia\n",
    "from app.src.algorithms.algorithms import floyd_warshall\n",
    "from app.src.metrics.metrics import calcular_metricas\n",
    "from app.src.utils.utils import imprimir_matrizes\n",
    "from app.src.lang.labels import metric_labels"
   ]
  },
  {
   "cell_type": "code",
   "execution_count": 5,
   "id": "423a90e7",
   "metadata": {},
   "outputs": [
    {
     "name": "stdout",
     "output_type": "stream",
     "text": [
      "\n",
      "=== Métricas do Grafo ===\n",
      "Número total de vértices: 12\n",
      "Número total de arestas: 11\n",
      "Número total de arcos: 22\n",
      "Número de nós obrigatórios: 7\n",
      "Número de arestas obrigatórias: 11\n",
      "Número de arcos obrigatórios: 11\n",
      "Densidade do grafo: 0.25\n",
      "Grau mínimo: 4\n",
      "Grau máximo: 10\n",
      "Intermediação (Betweenness Centrality): {1: 18, 2: 22, 3: 6, 4: 0, 5: 14, 6: 38, 7: 22, 8: 16, 9: 14, 10: 6, 11: 0, 12: 22}\n",
      "Caminho médio: 16.71212121212121\n",
      "Diâmetro: 30\n"
     ]
    }
   ],
   "source": [
    "nome_arquivo = input(\"Digite o nome do arquivo (ex: BHW1): \")\n",
    "grafo = carregar_instancia('storage/' + nome_arquivo + '.dat')\n",
    "dist, pred, index = floyd_warshall(grafo)\n",
    "metricas = calcular_metricas(grafo, dist, pred, index)\n",
    "\n",
    "print(\"\\n=== Métricas do Grafo ===\")\n",
    "for chave, valor in metricas.items():\n",
    "    rotulo = metric_labels.get(chave, chave)\n",
    "    if chave == \"betweenness\":\n",
    "        print(f\"\\n{rotulo}:\")\n",
    "        for no, inter in sorted(valor.items()):\n",
    "            print(f\"  Nó {no}: {inter}\")\n",
    "    else:\n",
    "        print(f\"{rotulo}: {valor}\")"
   ]
  },
  {
   "cell_type": "code",
   "execution_count": 3,
   "id": "e879218a",
   "metadata": {},
   "outputs": [
    {
     "name": "stdout",
     "output_type": "stream",
     "text": [
      "\n",
      "=== Matriz de Distâncias (completa) ===\n",
      "         1     2     3     4     5     6     7     8     9    10    11    12\n",
      "  1   0.0  13.0  19.0  17.0  14.0   7.0  11.0  19.0  15.0  19.0  23.0   4.0\n",
      "  2  13.0   0.0  18.0   9.0  23.0  20.0  24.0  21.0   2.0  18.0  15.0  17.0\n",
      "  3  19.0  18.0   0.0  20.0   5.0  12.0  16.0  24.0  20.0  27.0  22.0  15.0\n",
      "  4  17.0   9.0  20.0   0.0  23.0  24.0  28.0  30.0  11.0  27.0   6.0  21.0\n",
      "  5  14.0  23.0   5.0  23.0   0.0   7.0  11.0  19.0  25.0  22.0  17.0  10.0\n",
      "  6   7.0  20.0  12.0  24.0   7.0   0.0   4.0  12.0  22.0  15.0  22.0   3.0\n",
      "  7  11.0  24.0  16.0  28.0  11.0   4.0   0.0   8.0  26.0  11.0  26.0   7.0\n",
      "  8  19.0  21.0  24.0  30.0  19.0  12.0   8.0   0.0  19.0   3.0  34.0  15.0\n",
      "  9  15.0   2.0  20.0  11.0  25.0  22.0  26.0  19.0   0.0  16.0  17.0  19.0\n",
      " 10  19.0  18.0  27.0  27.0  22.0  15.0  11.0   3.0  16.0   0.0  33.0  18.0\n",
      " 11  23.0  15.0  22.0   6.0  17.0  22.0  26.0  34.0  17.0  33.0   0.0  19.0\n",
      " 12   4.0  17.0  15.0  21.0  10.0   3.0   7.0  15.0  19.0  18.0  19.0   0.0\n",
      "\n",
      "=== Matriz de Predecessores (completa) ===\n",
      "         1     2     3     4     5     6     7     8     9    10    11    12\n",
      "  1    -      1     5     1     6    12     6     7     2     1     4     1\n",
      "  2     2    -      2     2     3    12     6    10     2     9     4     1\n",
      "  3    12     3    -      3     3     5     6     7     2     8     3     6\n",
      "  4     4     4     4    -     11    12     6    10     2     9     4     1\n",
      "  5    12     3     5    11    -      5     6     7     2     8     5     6\n",
      "  6    12     1     5     1     6    -      6     7     2     8    12     6\n",
      "  7    12     1     5     1     6     7    -      7     2     8    12     6\n",
      "  8    12     9     5     2     6     7     8    -     10     8    12     6\n",
      "  9     2     9     2     2     3    12     6    10    -      9     4     1\n",
      " 10    10     9     5     2     6     7     8    10    10    -      4     6\n",
      " 11     4     4    11    11    11    12     6     7     2     9    -     11\n",
      " 12    12     1     5     1     6    12     6     7     2     8    12    - \n"
     ]
    }
   ],
   "source": [
    "# célula 3\n",
    "imprimir_matrizes(dist, pred, index)\n"
   ]
  }
 ],
 "metadata": {
  "kernelspec": {
   "display_name": ".venv",
   "language": "python",
   "name": "python3"
  },
  "language_info": {
   "codemirror_mode": {
    "name": "ipython",
    "version": 3
   },
   "file_extension": ".py",
   "mimetype": "text/x-python",
   "name": "python",
   "nbconvert_exporter": "python",
   "pygments_lexer": "ipython3",
   "version": "3.12.2"
  }
 },
 "nbformat": 4,
 "nbformat_minor": 5
}
