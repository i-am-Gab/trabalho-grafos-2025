{
 "cells": [
  {
   "cell_type": "markdown",
   "id": "67249962",
   "metadata": {},
   "source": [
    "1. Importação dos arquivos de código:\n",
    "Com os trechos de códgio estão organizados em arquivos e pastas dentro do projeto, fazemos a importação de todos os arquivos necessários."
   ]
  },
  {
   "cell_type": "code",
   "execution_count": null,
   "id": "39154f51",
   "metadata": {},
   "outputs": [],
   "source": [
    "from app.src.loader.loader import carregar_instancia\n",
    "from app.src.algorithms.algorithms import floyd_warshall\n",
    "from app.src.metrics.metrics import calcular_metricas\n",
    "from app.src.utils.utils import imprimir_matriz_dist\n",
    "from app.src.utils.utils import imprimir_matriz_pred\n",
    "from app.src.utils.utils import imprimir_dados_grafo\n",
    "from app.src.utils.utils import imprimir_intermediacao\n",
    "from app.src.utils.utils import plotar_grafo"
   ]
  },
  {
   "cell_type": "markdown",
   "id": "9a7a6c81",
   "metadata": {},
   "source": [
    "2. Leitura do Arquivo:\n",
    "Aqui é onde o usuário irá informar qual dos arquivos (contidos dentro da pasta app/storage) ele irá utilizar."
   ]
  },
  {
   "cell_type": "code",
   "execution_count": null,
   "id": "6bb6cc0b",
   "metadata": {},
   "outputs": [],
   "source": [
    "nome_arquivo = input(\"Digite o nome do arquivo (ex: BHW1): \")"
   ]
  },
  {
   "cell_type": "markdown",
   "id": "6f3e05a8",
   "metadata": {},
   "source": [
    "3. Instância do Grafo e métricas:\n",
    "Aqui é onde o nosso grafo é instânciado com as informações obtidas do .dat. Além disso, aqui também é chamda a função para realizar o cálculo das métricas do grafo e o algoritmo de Floyd Warshall."
   ]
  },
  {
   "cell_type": "code",
   "execution_count": null,
   "id": "1988b054",
   "metadata": {},
   "outputs": [],
   "source": [
    "grafo = carregar_instancia('app/storage/' + nome_arquivo + '.dat')\n",
    "dist, pred, index = floyd_warshall(grafo)\n",
    "metricas = calcular_metricas(grafo, dist, pred, index)"
   ]
  },
  {
   "cell_type": "markdown",
   "id": "44070af9",
   "metadata": {},
   "source": [
    "4. Visualização das métricas:\n",
    "Neste trecho é exibida a tabela com as informações do grafo e as métricas calculadas."
   ]
  },
  {
   "cell_type": "code",
   "execution_count": null,
   "id": "423a90e7",
   "metadata": {},
   "outputs": [],
   "source": [
    "imprimir_dados_grafo(metricas)"
   ]
  },
  {
   "cell_type": "markdown",
   "id": "b753ecc3",
   "metadata": {},
   "source": [
    "5. Intermediações:\n",
    "Neste trecho é exibida a tabela das intermediações dos vértices do grafo."
   ]
  },
  {
   "cell_type": "code",
   "execution_count": null,
   "id": "25578e67",
   "metadata": {},
   "outputs": [],
   "source": [
    "imprimir_intermediacao(metricas[\"intermediacao\"])"
   ]
  },
  {
   "cell_type": "markdown",
   "id": "85758ec8",
   "metadata": {},
   "source": [
    "6. Matriz de Distâncias:\n",
    "Aqui é onde é chamada a função para exibir a matriz de distâncias dos vértices do grafo."
   ]
  },
  {
   "cell_type": "code",
   "execution_count": null,
   "id": "e879218a",
   "metadata": {},
   "outputs": [],
   "source": [
    "imprimir_matriz_dist(dist, index)"
   ]
  },
  {
   "cell_type": "markdown",
   "id": "ef8fac92",
   "metadata": {},
   "source": [
    "7. Matriz de Predecessores:\n",
    "Aqui é onde é chamada a função para exibir a matriz de predecessores dos vértices do grafo."
   ]
  },
  {
   "cell_type": "code",
   "execution_count": null,
   "id": "0b99cd74",
   "metadata": {},
   "outputs": [],
   "source": [
    "imprimir_matriz_pred(pred, index)"
   ]
  }
 ],
 "metadata": {
  "kernelspec": {
   "display_name": ".venv",
   "language": "python",
   "name": "python3"
  },
  "language_info": {
   "codemirror_mode": {
    "name": "ipython",
    "version": 3
   },
   "file_extension": ".py",
   "mimetype": "text/x-python",
   "name": "python",
   "nbconvert_exporter": "python",
   "pygments_lexer": "ipython3",
   "version": "3.12.2"
  }
 },
 "nbformat": 4,
 "nbformat_minor": 5
}
