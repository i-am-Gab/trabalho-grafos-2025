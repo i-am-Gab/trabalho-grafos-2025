{
 "cells": [
  {
   "cell_type": "markdown",
   "id": "67249962",
   "metadata": {},
   "source": [
    "1. Importação dos arquivos de código:\n",
    "Com os trechos de códgio estão organizados em arquivos e pastas dentro do projeto, fazemos a importação de todos os arquivos necessários."
   ]
  },
  {
   "cell_type": "code",
   "execution_count": 1,
   "id": "39154f51",
   "metadata": {},
   "outputs": [],
   "source": [
    "from app.src.loader.loader import carregar_instancia\n",
    "from app.src.algorithms.algorithms import floyd_warshall\n",
    "from app.src.metrics.metrics import calcular_metricas\n",
    "from app.src.utils.utils import imprimir_matriz_dist\n",
    "from app.src.utils.utils import imprimir_matriz_pred\n",
    "from app.src.utils.utils import imprimir_dados_grafo\n",
    "from app.src.utils.utils import imprimir_intermediacao\n",
    "from app.src.utils.utils import plotar_grafo"
   ]
  },
  {
   "cell_type": "markdown",
   "id": "9a7a6c81",
   "metadata": {},
   "source": [
    "2. Leitura do Arquivo:\n",
    "Aqui é onde o usuário irá informar qual dos arquivos (contidos dentro da pasta app/storage) ele irá utilizar."
   ]
  },
  {
   "cell_type": "code",
   "execution_count": 2,
   "id": "6bb6cc0b",
   "metadata": {},
   "outputs": [],
   "source": [
    "nome_arquivo = input(\"Digite o nome do arquivo (ex: BHW1): \")"
   ]
  },
  {
   "cell_type": "markdown",
   "id": "6f3e05a8",
   "metadata": {},
   "source": [
    "3. Instância do Grafo e métricas:\n",
    "Aqui é onde o nosso grafo é instânciado com as informações obtidas do .dat. Além disso, aqui também é chamda a função para realizar o cálculo das métricas do grafo e o algoritmo de Floyd Warshall."
   ]
  },
  {
   "cell_type": "code",
   "execution_count": 3,
   "id": "1988b054",
   "metadata": {},
   "outputs": [
    {
     "name": "stdout",
     "output_type": "stream",
     "text": [
      "{'tipo': 'misto', 'num_vertices': 12, 'num_arestas': 11, 'num_arcos': 22, 'num_nos_obrigatorios': 7, 'num_arestas_obrigatorias': 11, 'num_arcos_obrigatorios': 11, 'densidade': 0.25, 'grau_minimo': 4, 'grau_maximo': 10, 'intermediacao': {1: 18, 2: 22, 3: 6, 4: 0, 5: 14, 6: 38, 7: 22, 8: 16, 9: 14, 10: 6, 11: 0, 12: 22}, 'caminho_medio': 16.71212121212121, 'diametro': 30}\n"
     ]
    }
   ],
   "source": [
    "grafo = carregar_instancia('app/storage/' + nome_arquivo + '.dat')\n",
    "dist, pred, index = floyd_warshall(grafo)\n",
    "metricas = calcular_metricas(grafo, dist, pred, index)\n",
    "\n",
    "print(metricas)"
   ]
  },
  {
   "cell_type": "markdown",
   "id": "44070af9",
   "metadata": {},
   "source": [
    "4. Visualização das métricas:\n",
    "Neste trecho é exibida a tabela com as informações do grafo e as métricas calculadas."
   ]
  },
  {
   "cell_type": "code",
   "execution_count": 4,
   "id": "423a90e7",
   "metadata": {},
   "outputs": [
    {
     "data": {
      "text/html": [
       "<style type=\"text/css\">\n",
       "#T_64f85_row0_col0, #T_64f85_row0_col1, #T_64f85_row1_col0, #T_64f85_row1_col1, #T_64f85_row2_col0, #T_64f85_row2_col1, #T_64f85_row3_col0, #T_64f85_row3_col1, #T_64f85_row4_col0, #T_64f85_row4_col1, #T_64f85_row5_col0, #T_64f85_row5_col1, #T_64f85_row6_col0, #T_64f85_row6_col1, #T_64f85_row7_col0, #T_64f85_row7_col1, #T_64f85_row8_col0, #T_64f85_row8_col1, #T_64f85_row9_col0, #T_64f85_row9_col1, #T_64f85_row10_col0, #T_64f85_row10_col1, #T_64f85_row11_col0, #T_64f85_row11_col1 {\n",
       "  text-align: left;\n",
       "}\n",
       "</style>\n",
       "<table id=\"T_64f85\">\n",
       "  <thead>\n",
       "    <tr>\n",
       "      <th class=\"index_name level0\" >ID</th>\n",
       "      <th id=\"T_64f85_level0_col0\" class=\"col_heading level0 col0\" >Métricas</th>\n",
       "      <th id=\"T_64f85_level0_col1\" class=\"col_heading level0 col1\" >Valor</th>\n",
       "    </tr>\n",
       "  </thead>\n",
       "  <tbody>\n",
       "    <tr>\n",
       "      <th id=\"T_64f85_level0_row0\" class=\"row_heading level0 row0\" >1</th>\n",
       "      <td id=\"T_64f85_row0_col0\" class=\"data row0 col0\" >Tipo de grafo</td>\n",
       "      <td id=\"T_64f85_row0_col1\" class=\"data row0 col1\" >Misto</td>\n",
       "    </tr>\n",
       "    <tr>\n",
       "      <th id=\"T_64f85_level0_row1\" class=\"row_heading level0 row1\" >2</th>\n",
       "      <td id=\"T_64f85_row1_col0\" class=\"data row1 col0\" >Número total de vértices</td>\n",
       "      <td id=\"T_64f85_row1_col1\" class=\"data row1 col1\" >12</td>\n",
       "    </tr>\n",
       "    <tr>\n",
       "      <th id=\"T_64f85_level0_row2\" class=\"row_heading level0 row2\" >3</th>\n",
       "      <td id=\"T_64f85_row2_col0\" class=\"data row2 col0\" >Número total de arestas</td>\n",
       "      <td id=\"T_64f85_row2_col1\" class=\"data row2 col1\" >11</td>\n",
       "    </tr>\n",
       "    <tr>\n",
       "      <th id=\"T_64f85_level0_row3\" class=\"row_heading level0 row3\" >4</th>\n",
       "      <td id=\"T_64f85_row3_col0\" class=\"data row3 col0\" >Número total de arcos</td>\n",
       "      <td id=\"T_64f85_row3_col1\" class=\"data row3 col1\" >22</td>\n",
       "    </tr>\n",
       "    <tr>\n",
       "      <th id=\"T_64f85_level0_row4\" class=\"row_heading level0 row4\" >5</th>\n",
       "      <td id=\"T_64f85_row4_col0\" class=\"data row4 col0\" >Número de nós obrigatórios</td>\n",
       "      <td id=\"T_64f85_row4_col1\" class=\"data row4 col1\" >7</td>\n",
       "    </tr>\n",
       "    <tr>\n",
       "      <th id=\"T_64f85_level0_row5\" class=\"row_heading level0 row5\" >6</th>\n",
       "      <td id=\"T_64f85_row5_col0\" class=\"data row5 col0\" >Número de arestas obrigatórias</td>\n",
       "      <td id=\"T_64f85_row5_col1\" class=\"data row5 col1\" >11</td>\n",
       "    </tr>\n",
       "    <tr>\n",
       "      <th id=\"T_64f85_level0_row6\" class=\"row_heading level0 row6\" >7</th>\n",
       "      <td id=\"T_64f85_row6_col0\" class=\"data row6 col0\" >Número de arcos obrigatórios</td>\n",
       "      <td id=\"T_64f85_row6_col1\" class=\"data row6 col1\" >11</td>\n",
       "    </tr>\n",
       "    <tr>\n",
       "      <th id=\"T_64f85_level0_row7\" class=\"row_heading level0 row7\" >8</th>\n",
       "      <td id=\"T_64f85_row7_col0\" class=\"data row7 col0\" >Densidade do grafo</td>\n",
       "      <td id=\"T_64f85_row7_col1\" class=\"data row7 col1\" >0.250000</td>\n",
       "    </tr>\n",
       "    <tr>\n",
       "      <th id=\"T_64f85_level0_row8\" class=\"row_heading level0 row8\" >9</th>\n",
       "      <td id=\"T_64f85_row8_col0\" class=\"data row8 col0\" >Grau mínimo</td>\n",
       "      <td id=\"T_64f85_row8_col1\" class=\"data row8 col1\" >4</td>\n",
       "    </tr>\n",
       "    <tr>\n",
       "      <th id=\"T_64f85_level0_row9\" class=\"row_heading level0 row9\" >10</th>\n",
       "      <td id=\"T_64f85_row9_col0\" class=\"data row9 col0\" >Grau máximo</td>\n",
       "      <td id=\"T_64f85_row9_col1\" class=\"data row9 col1\" >10</td>\n",
       "    </tr>\n",
       "    <tr>\n",
       "      <th id=\"T_64f85_level0_row10\" class=\"row_heading level0 row10\" >11</th>\n",
       "      <td id=\"T_64f85_row10_col0\" class=\"data row10 col0\" >Caminho médio</td>\n",
       "      <td id=\"T_64f85_row10_col1\" class=\"data row10 col1\" >16.712121</td>\n",
       "    </tr>\n",
       "    <tr>\n",
       "      <th id=\"T_64f85_level0_row11\" class=\"row_heading level0 row11\" >12</th>\n",
       "      <td id=\"T_64f85_row11_col0\" class=\"data row11 col0\" >Diâmetro</td>\n",
       "      <td id=\"T_64f85_row11_col1\" class=\"data row11 col1\" >30</td>\n",
       "    </tr>\n",
       "  </tbody>\n",
       "</table>\n"
      ],
      "text/plain": [
       "<pandas.io.formats.style.Styler at 0x23a53443110>"
      ]
     },
     "execution_count": 4,
     "metadata": {},
     "output_type": "execute_result"
    }
   ],
   "source": [
    "imprimir_dados_grafo(metricas)"
   ]
  },
  {
   "cell_type": "markdown",
   "id": "b753ecc3",
   "metadata": {},
   "source": [
    "5. Intermediações:\n",
    "Neste trecho é exibida a tabela das intermediações dos vértices do grafo."
   ]
  },
  {
   "cell_type": "code",
   "execution_count": 5,
   "id": "25578e67",
   "metadata": {},
   "outputs": [
    {
     "data": {
      "text/html": [
       "<style type=\"text/css\">\n",
       "#T_e0d03_row0_col0, #T_e0d03_row0_col1, #T_e0d03_row1_col0, #T_e0d03_row1_col1, #T_e0d03_row2_col0, #T_e0d03_row2_col1, #T_e0d03_row3_col0, #T_e0d03_row3_col1, #T_e0d03_row4_col0, #T_e0d03_row4_col1, #T_e0d03_row5_col0, #T_e0d03_row5_col1, #T_e0d03_row6_col0, #T_e0d03_row6_col1, #T_e0d03_row7_col0, #T_e0d03_row7_col1, #T_e0d03_row8_col0, #T_e0d03_row8_col1, #T_e0d03_row9_col0, #T_e0d03_row9_col1, #T_e0d03_row10_col0, #T_e0d03_row10_col1, #T_e0d03_row11_col0, #T_e0d03_row11_col1 {\n",
       "  text-align: center;\n",
       "}\n",
       "</style>\n",
       "<table id=\"T_e0d03\">\n",
       "  <thead>\n",
       "    <tr>\n",
       "      <th class=\"index_name level0\" >ID</th>\n",
       "      <th id=\"T_e0d03_level0_col0\" class=\"col_heading level0 col0\" >Vértices</th>\n",
       "      <th id=\"T_e0d03_level0_col1\" class=\"col_heading level0 col1\" >Intermediação</th>\n",
       "    </tr>\n",
       "  </thead>\n",
       "  <tbody>\n",
       "    <tr>\n",
       "      <th id=\"T_e0d03_level0_row0\" class=\"row_heading level0 row0\" >1</th>\n",
       "      <td id=\"T_e0d03_row0_col0\" class=\"data row0 col0\" >1</td>\n",
       "      <td id=\"T_e0d03_row0_col1\" class=\"data row0 col1\" >18</td>\n",
       "    </tr>\n",
       "    <tr>\n",
       "      <th id=\"T_e0d03_level0_row1\" class=\"row_heading level0 row1\" >2</th>\n",
       "      <td id=\"T_e0d03_row1_col0\" class=\"data row1 col0\" >2</td>\n",
       "      <td id=\"T_e0d03_row1_col1\" class=\"data row1 col1\" >22</td>\n",
       "    </tr>\n",
       "    <tr>\n",
       "      <th id=\"T_e0d03_level0_row2\" class=\"row_heading level0 row2\" >3</th>\n",
       "      <td id=\"T_e0d03_row2_col0\" class=\"data row2 col0\" >3</td>\n",
       "      <td id=\"T_e0d03_row2_col1\" class=\"data row2 col1\" >6</td>\n",
       "    </tr>\n",
       "    <tr>\n",
       "      <th id=\"T_e0d03_level0_row3\" class=\"row_heading level0 row3\" >4</th>\n",
       "      <td id=\"T_e0d03_row3_col0\" class=\"data row3 col0\" >4</td>\n",
       "      <td id=\"T_e0d03_row3_col1\" class=\"data row3 col1\" >0</td>\n",
       "    </tr>\n",
       "    <tr>\n",
       "      <th id=\"T_e0d03_level0_row4\" class=\"row_heading level0 row4\" >5</th>\n",
       "      <td id=\"T_e0d03_row4_col0\" class=\"data row4 col0\" >5</td>\n",
       "      <td id=\"T_e0d03_row4_col1\" class=\"data row4 col1\" >14</td>\n",
       "    </tr>\n",
       "    <tr>\n",
       "      <th id=\"T_e0d03_level0_row5\" class=\"row_heading level0 row5\" >6</th>\n",
       "      <td id=\"T_e0d03_row5_col0\" class=\"data row5 col0\" >6</td>\n",
       "      <td id=\"T_e0d03_row5_col1\" class=\"data row5 col1\" >38</td>\n",
       "    </tr>\n",
       "    <tr>\n",
       "      <th id=\"T_e0d03_level0_row6\" class=\"row_heading level0 row6\" >7</th>\n",
       "      <td id=\"T_e0d03_row6_col0\" class=\"data row6 col0\" >7</td>\n",
       "      <td id=\"T_e0d03_row6_col1\" class=\"data row6 col1\" >22</td>\n",
       "    </tr>\n",
       "    <tr>\n",
       "      <th id=\"T_e0d03_level0_row7\" class=\"row_heading level0 row7\" >8</th>\n",
       "      <td id=\"T_e0d03_row7_col0\" class=\"data row7 col0\" >8</td>\n",
       "      <td id=\"T_e0d03_row7_col1\" class=\"data row7 col1\" >16</td>\n",
       "    </tr>\n",
       "    <tr>\n",
       "      <th id=\"T_e0d03_level0_row8\" class=\"row_heading level0 row8\" >9</th>\n",
       "      <td id=\"T_e0d03_row8_col0\" class=\"data row8 col0\" >9</td>\n",
       "      <td id=\"T_e0d03_row8_col1\" class=\"data row8 col1\" >14</td>\n",
       "    </tr>\n",
       "    <tr>\n",
       "      <th id=\"T_e0d03_level0_row9\" class=\"row_heading level0 row9\" >10</th>\n",
       "      <td id=\"T_e0d03_row9_col0\" class=\"data row9 col0\" >10</td>\n",
       "      <td id=\"T_e0d03_row9_col1\" class=\"data row9 col1\" >6</td>\n",
       "    </tr>\n",
       "    <tr>\n",
       "      <th id=\"T_e0d03_level0_row10\" class=\"row_heading level0 row10\" >11</th>\n",
       "      <td id=\"T_e0d03_row10_col0\" class=\"data row10 col0\" >11</td>\n",
       "      <td id=\"T_e0d03_row10_col1\" class=\"data row10 col1\" >0</td>\n",
       "    </tr>\n",
       "    <tr>\n",
       "      <th id=\"T_e0d03_level0_row11\" class=\"row_heading level0 row11\" >12</th>\n",
       "      <td id=\"T_e0d03_row11_col0\" class=\"data row11 col0\" >12</td>\n",
       "      <td id=\"T_e0d03_row11_col1\" class=\"data row11 col1\" >22</td>\n",
       "    </tr>\n",
       "  </tbody>\n",
       "</table>\n"
      ],
      "text/plain": [
       "<pandas.io.formats.style.Styler at 0x23a3a8611f0>"
      ]
     },
     "execution_count": 5,
     "metadata": {},
     "output_type": "execute_result"
    }
   ],
   "source": [
    "imprimir_intermediacao(metricas[\"intermediacao\"])"
   ]
  },
  {
   "cell_type": "markdown",
   "id": "85758ec8",
   "metadata": {},
   "source": [
    "6. Matriz de Distâncias:\n",
    "Aqui é onde é chamada a função para exibir a matriz de distâncias dos vértices do grafo."
   ]
  },
  {
   "cell_type": "code",
   "execution_count": null,
   "id": "e879218a",
   "metadata": {},
   "outputs": [],
   "source": [
    "imprimir_matriz_dist(dist, index)"
   ]
  },
  {
   "cell_type": "markdown",
   "id": "ef8fac92",
   "metadata": {},
   "source": [
    "7. Matriz de Predecessores:\n",
    "Aqui é onde é chamada a função para exibir a matriz de predecessores dos vértices do grafo."
   ]
  },
  {
   "cell_type": "code",
   "execution_count": null,
   "id": "0b99cd74",
   "metadata": {},
   "outputs": [],
   "source": [
    "imprimir_matriz_pred(pred, index)"
   ]
  }
 ],
 "metadata": {
  "kernelspec": {
   "display_name": ".venv",
   "language": "python",
   "name": "python3"
  },
  "language_info": {
   "codemirror_mode": {
    "name": "ipython",
    "version": 3
   },
   "file_extension": ".py",
   "mimetype": "text/x-python",
   "name": "python",
   "nbconvert_exporter": "python",
   "pygments_lexer": "ipython3",
   "version": "3.12.2"
  }
 },
 "nbformat": 4,
 "nbformat_minor": 5
}
